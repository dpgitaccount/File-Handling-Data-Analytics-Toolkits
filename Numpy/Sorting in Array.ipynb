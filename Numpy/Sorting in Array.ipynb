{
 "cells": [
  {
   "cell_type": "code",
   "execution_count": 1,
   "id": "4426e0c0-7596-4e21-8d45-01a666d08571",
   "metadata": {},
   "outputs": [],
   "source": [
    "import numpy as np"
   ]
  },
  {
   "cell_type": "code",
   "execution_count": 3,
   "id": "2b7e09e2-af29-4975-bb7d-8e352b3b05b6",
   "metadata": {},
   "outputs": [
    {
     "data": {
      "text/plain": [
       "array([[1, 2, 3, 4, 5, 6],\n",
       "       [5, 6, 7, 8, 4, 4],\n",
       "       [9, 8, 6, 5, 4, 3]])"
      ]
     },
     "execution_count": 3,
     "metadata": {},
     "output_type": "execute_result"
    }
   ],
   "source": [
    "arr = np.array([[1,2,3,4,5,6],[5,6,7,8,4,4],[9,8,6,5,4,3]])\n",
    "arr"
   ]
  },
  {
   "cell_type": "code",
   "execution_count": 4,
   "id": "972b83fd-e140-4edb-89bf-790aa1688b8d",
   "metadata": {},
   "outputs": [
    {
     "data": {
      "text/plain": [
       "array([[1, 2, 3, 4, 5, 6],\n",
       "       [4, 4, 5, 6, 7, 8],\n",
       "       [3, 4, 5, 6, 8, 9]])"
      ]
     },
     "execution_count": 4,
     "metadata": {},
     "output_type": "execute_result"
    }
   ],
   "source": [
    "## Sorting\n",
    "## Row Wise\n",
    "np.sort(arr, axis = 1, kind = 'mergesort')"
   ]
  },
  {
   "cell_type": "code",
   "execution_count": 6,
   "id": "ac83373b-233d-4c7f-83fd-ef55b6b8c882",
   "metadata": {},
   "outputs": [
    {
     "data": {
      "text/plain": [
       "array([[1, 2, 3, 4, 4, 3],\n",
       "       [5, 6, 6, 5, 4, 4],\n",
       "       [9, 8, 7, 8, 5, 6]])"
      ]
     },
     "execution_count": 6,
     "metadata": {},
     "output_type": "execute_result"
    }
   ],
   "source": [
    "## Column Wise\n",
    "np.sort(arr, axis = 0, kind = 'mergesort')"
   ]
  },
  {
   "cell_type": "code",
   "execution_count": 7,
   "id": "fbcd52a5-a8b7-497b-851f-3d60e82a7b91",
   "metadata": {},
   "outputs": [
    {
     "data": {
      "text/plain": [
       "array([[1, 2, 3, 4, 5, 6],\n",
       "       [4, 4, 5, 6, 7, 8],\n",
       "       [3, 4, 5, 6, 8, 9]])"
      ]
     },
     "execution_count": 7,
     "metadata": {},
     "output_type": "execute_result"
    }
   ],
   "source": [
    "np.sort(arr, axis = 1, kind = 'quicksort')"
   ]
  },
  {
   "cell_type": "code",
   "execution_count": null,
   "id": "4f359f67-e204-4723-8401-148743020a83",
   "metadata": {},
   "outputs": [],
   "source": []
  }
 ],
 "metadata": {
  "kernelspec": {
   "display_name": "Python 3 (ipykernel)",
   "language": "python",
   "name": "python3"
  },
  "language_info": {
   "codemirror_mode": {
    "name": "ipython",
    "version": 3
   },
   "file_extension": ".py",
   "mimetype": "text/x-python",
   "name": "python",
   "nbconvert_exporter": "python",
   "pygments_lexer": "ipython3",
   "version": "3.10.7"
  }
 },
 "nbformat": 4,
 "nbformat_minor": 5
}
