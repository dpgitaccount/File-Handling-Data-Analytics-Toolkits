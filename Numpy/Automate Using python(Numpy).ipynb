{
 "cells": [
  {
   "cell_type": "code",
   "execution_count": 1,
   "id": "9747cf55-05d8-40c3-b37e-6e18434018e3",
   "metadata": {},
   "outputs": [],
   "source": [
    "import numpy as np\n"
   ]
  },
  {
   "cell_type": "code",
   "execution_count": 2,
   "id": "f88b6f55-df62-48df-8ac7-fc3e07d888c9",
   "metadata": {},
   "outputs": [],
   "source": [
    "lst = [1,2,3,4,5,6,7,8,9,10]"
   ]
  },
  {
   "cell_type": "code",
   "execution_count": 9,
   "id": "b152fb03-8fe6-43c2-a72b-003f62e4a078",
   "metadata": {},
   "outputs": [
    {
     "name": "stdout",
     "output_type": "stream",
     "text": [
      "6\n",
      "7\n",
      "8\n",
      "9\n",
      "10\n",
      "5\n"
     ]
    }
   ],
   "source": [
    "## Without numpy\n",
    "q = 0\n",
    "for i in lst:\n",
    "    if(i > 5):\n",
    "        print(i)\n",
    "        q += 1\n",
    "print(q)\n"
   ]
  },
  {
   "cell_type": "code",
   "execution_count": 7,
   "id": "8c94220f-e899-4cf3-a38b-902d3a76b155",
   "metadata": {},
   "outputs": [
    {
     "data": {
      "text/plain": [
       "array([ 1,  2,  3,  4,  5,  6,  7,  8,  9, 10])"
      ]
     },
     "execution_count": 7,
     "metadata": {},
     "output_type": "execute_result"
    }
   ],
   "source": [
    "## With Numpy\n",
    "lst = np.array([1,2,3,4,5,6,7,8,9,10])\n",
    "lst"
   ]
  },
  {
   "cell_type": "code",
   "execution_count": 14,
   "id": "a57aab48-3285-4392-887e-13f988c97dc9",
   "metadata": {},
   "outputs": [
    {
     "name": "stdout",
     "output_type": "stream",
     "text": [
      "[ 6  7  8  9 10]\n",
      "5\n"
     ]
    }
   ],
   "source": [
    "print(lst[lst > 5])\n",
    "print(len(lst[lst > 5]))\n",
    "\n"
   ]
  },
  {
   "cell_type": "code",
   "execution_count": 15,
   "id": "d92e725c-011f-4e85-b7f7-a452d72412e1",
   "metadata": {},
   "outputs": [
    {
     "name": "stdout",
     "output_type": "stream",
     "text": [
      "[3 6 9]\n",
      "3\n"
     ]
    }
   ],
   "source": [
    "print(lst[lst % 3 == 0])\n",
    "print(len(lst[lst % 3 == 0]))\n"
   ]
  },
  {
   "cell_type": "code",
   "execution_count": 16,
   "id": "e64a24ec-5d7d-4ad2-a289-12523963c7ea",
   "metadata": {},
   "outputs": [
    {
     "name": "stdout",
     "output_type": "stream",
     "text": [
      "[3, 5, 4, 6, 7, 8]\n"
     ]
    }
   ],
   "source": [
    "array1 = [1,2,3,5,4,6,7,8,5,3,2]\n",
    "print(array1[2:-3])"
   ]
  },
  {
   "cell_type": "code",
   "execution_count": 17,
   "id": "f3c02140-be0e-47eb-a371-fae21994a3de",
   "metadata": {},
   "outputs": [
    {
     "data": {
      "text/plain": [
       "array([[1, 2, 5],\n",
       "       [3, 4, 6]])"
      ]
     },
     "execution_count": 17,
     "metadata": {},
     "output_type": "execute_result"
    }
   ],
   "source": [
    "a = np.array([[1, 2], [3, 4]])\n",
    "b = np.array([[5, 6]])\n",
    "np.concatenate((a, b.T), axis=1)\n"
   ]
  },
  {
   "cell_type": "code",
   "execution_count": null,
   "id": "104f950a-724d-4be0-aa04-5701a91353c6",
   "metadata": {},
   "outputs": [],
   "source": []
  }
 ],
 "metadata": {
  "kernelspec": {
   "display_name": "Python 3 (ipykernel)",
   "language": "python",
   "name": "python3"
  },
  "language_info": {
   "codemirror_mode": {
    "name": "ipython",
    "version": 3
   },
   "file_extension": ".py",
   "mimetype": "text/x-python",
   "name": "python",
   "nbconvert_exporter": "python",
   "pygments_lexer": "ipython3",
   "version": "3.10.7"
  }
 },
 "nbformat": 4,
 "nbformat_minor": 5
}
