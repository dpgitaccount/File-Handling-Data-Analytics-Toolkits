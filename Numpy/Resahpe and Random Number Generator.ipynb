{
 "cells": [
  {
   "cell_type": "code",
   "execution_count": 1,
   "id": "b4f18be9-ddf9-4e69-b128-7f82149e42b8",
   "metadata": {},
   "outputs": [],
   "source": [
    "import numpy as np\n"
   ]
  },
  {
   "cell_type": "code",
   "execution_count": 2,
   "id": "b72ed7e5-237d-496e-8d28-70a38d7c01c1",
   "metadata": {},
   "outputs": [
    {
     "data": {
      "text/plain": [
       "array([[0.98640446, 0.90252753, 0.70294606],\n",
       "       [0.50957289, 0.46868947, 0.18749609],\n",
       "       [0.26657052, 0.04936483, 0.08936352]])"
      ]
     },
     "execution_count": 2,
     "metadata": {},
     "output_type": "execute_result"
    }
   ],
   "source": [
    "## Generating random number\n",
    "np.random.random((3,3))"
   ]
  },
  {
   "cell_type": "code",
   "execution_count": 6,
   "id": "e4b3a6c6-b8c3-402c-a410-a32dc386b52d",
   "metadata": {},
   "outputs": [
    {
     "data": {
      "text/plain": [
       "array([1, 2, 3, 4, 5, 6, 7, 8, 9])"
      ]
     },
     "execution_count": 6,
     "metadata": {},
     "output_type": "execute_result"
    }
   ],
   "source": [
    "## Generating sequence number\n",
    "np.arange(1, 10,1)"
   ]
  },
  {
   "cell_type": "code",
   "execution_count": 9,
   "id": "d420b08f-4ac3-4fad-84b4-c1c5918c61a7",
   "metadata": {},
   "outputs": [
    {
     "data": {
      "text/plain": [
       "array([ 1.        ,  2.11111111,  3.22222222,  4.33333333,  5.44444444,\n",
       "        6.55555556,  7.66666667,  8.77777778,  9.88888889, 11.        ])"
      ]
     },
     "execution_count": 9,
     "metadata": {},
     "output_type": "execute_result"
    }
   ],
   "source": [
    "## Linspace\n",
    "np.linspace(1,11,10)"
   ]
  },
  {
   "cell_type": "code",
   "execution_count": 16,
   "id": "9a955afe-bd5a-43e5-bdc7-3bf946e21d4c",
   "metadata": {},
   "outputs": [
    {
     "name": "stdout",
     "output_type": "stream",
     "text": [
      "B\n",
      " (array([2.  , 2.25, 2.5 , 2.75, 3.  ]), 0.25) \n",
      "\n",
      "A\n",
      " [0.         0.22039774 0.42995636 0.6183698  0.77637192 0.8961922\n",
      " 0.9719379  0.99988386 0.9786557  0.90929743]\n"
     ]
    }
   ],
   "source": [
    "# numpy.linspace method \n",
    "import numpy as geek\n",
    " \n",
    "# restep set to True\n",
    "print(\"B\\n\", geek.linspace(2.0, 3.0, num=5, retstep=True), \"\\n\")\n",
    " \n",
    "# To evaluate sin() in long range\n",
    "x = geek.linspace(0, 2, 10)\n",
    "print(\"A\\n\", geek.sin(x))\n"
   ]
  },
  {
   "cell_type": "code",
   "execution_count": 11,
   "id": "8489e479-0d68-44bb-9e96-d2bda6c1dd62",
   "metadata": {},
   "outputs": [
    {
     "data": {
      "text/plain": [
       "array([[0.03122569, 0.28598693, 0.24423365],\n",
       "       [0.65240864, 0.42419267, 0.93404489],\n",
       "       [0.17254724, 0.54892554, 0.19744096],\n",
       "       [0.67594494, 0.8001144 , 0.95407173]])"
      ]
     },
     "execution_count": 11,
     "metadata": {},
     "output_type": "execute_result"
    }
   ],
   "source": [
    "## Before Reshaping\n",
    "arr = np.random.random((4,3))\n",
    "arr"
   ]
  },
  {
   "cell_type": "code",
   "execution_count": 12,
   "id": "b975fdc1-039c-462e-8ed5-7c8ccf9068ad",
   "metadata": {},
   "outputs": [
    {
     "data": {
      "text/plain": [
       "array([[0.03122569, 0.28598693, 0.24423365, 0.65240864],\n",
       "       [0.42419267, 0.93404489, 0.17254724, 0.54892554],\n",
       "       [0.19744096, 0.67594494, 0.8001144 , 0.95407173]])"
      ]
     },
     "execution_count": 12,
     "metadata": {},
     "output_type": "execute_result"
    }
   ],
   "source": [
    "## Reshaping of Array\n",
    "arr = np.reshape(arr, (3,4))\n",
    "arr"
   ]
  },
  {
   "cell_type": "code",
   "execution_count": 13,
   "id": "64406152-834d-46e3-ad70-59a16a48460c",
   "metadata": {},
   "outputs": [
    {
     "data": {
      "text/plain": [
       "array([[0.03122569, 0.28598693],\n",
       "       [0.24423365, 0.65240864],\n",
       "       [0.42419267, 0.93404489],\n",
       "       [0.17254724, 0.54892554],\n",
       "       [0.19744096, 0.67594494],\n",
       "       [0.8001144 , 0.95407173]])"
      ]
     },
     "execution_count": 13,
     "metadata": {},
     "output_type": "execute_result"
    }
   ],
   "source": [
    "arr = np.reshape(arr, (6,2))\n",
    "arr"
   ]
  },
  {
   "cell_type": "code",
   "execution_count": 15,
   "id": "b2aeb2cc-b112-4d01-a2f3-bdf9b6373f9f",
   "metadata": {},
   "outputs": [
    {
     "data": {
      "text/plain": [
       "array([0.03122569, 0.28598693, 0.24423365, 0.65240864, 0.42419267,\n",
       "       0.93404489, 0.17254724, 0.54892554, 0.19744096, 0.67594494,\n",
       "       0.8001144 , 0.95407173])"
      ]
     },
     "execution_count": 15,
     "metadata": {},
     "output_type": "execute_result"
    }
   ],
   "source": [
    "arr.flatten()"
   ]
  },
  {
   "cell_type": "code",
   "execution_count": null,
   "id": "0980b3e7-c100-4462-ab2f-15d85eb6e4ce",
   "metadata": {},
   "outputs": [],
   "source": []
  }
 ],
 "metadata": {
  "kernelspec": {
   "display_name": "Python 3 (ipykernel)",
   "language": "python",
   "name": "python3"
  },
  "language_info": {
   "codemirror_mode": {
    "name": "ipython",
    "version": 3
   },
   "file_extension": ".py",
   "mimetype": "text/x-python",
   "name": "python",
   "nbconvert_exporter": "python",
   "pygments_lexer": "ipython3",
   "version": "3.10.7"
  }
 },
 "nbformat": 4,
 "nbformat_minor": 5
}
