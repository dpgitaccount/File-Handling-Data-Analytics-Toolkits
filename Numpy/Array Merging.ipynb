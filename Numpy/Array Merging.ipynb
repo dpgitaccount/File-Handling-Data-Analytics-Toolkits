{
 "cells": [
  {
   "cell_type": "code",
   "execution_count": 1,
   "id": "8f150805-9667-4b5f-8aa7-22527df1c7ed",
   "metadata": {},
   "outputs": [],
   "source": [
    "import numpy as np"
   ]
  },
  {
   "cell_type": "code",
   "execution_count": 10,
   "id": "953ab310-55c7-4bd1-adf8-b13a81f73da4",
   "metadata": {},
   "outputs": [],
   "source": [
    "## Merging of Arrays\n",
    "arr1 = np.array([[1,2,3,4], [5,6,7,8]])\n",
    "arr2 = np.array([[3,4,5,6], [7,8,9,10]])"
   ]
  },
  {
   "cell_type": "code",
   "execution_count": 11,
   "id": "d8347560-2a2e-4550-b4f5-be9808854d23",
   "metadata": {},
   "outputs": [
    {
     "data": {
      "text/plain": [
       "array([[1, 2, 3, 4],\n",
       "       [5, 6, 7, 8]])"
      ]
     },
     "execution_count": 11,
     "metadata": {},
     "output_type": "execute_result"
    }
   ],
   "source": [
    "arr1"
   ]
  },
  {
   "cell_type": "code",
   "execution_count": 12,
   "id": "a9acd930-5b5e-459c-852a-d71468ed040e",
   "metadata": {},
   "outputs": [
    {
     "data": {
      "text/plain": [
       "array([[ 3,  4,  5,  6],\n",
       "       [ 7,  8,  9, 10]])"
      ]
     },
     "execution_count": 12,
     "metadata": {},
     "output_type": "execute_result"
    }
   ],
   "source": [
    "arr2"
   ]
  },
  {
   "cell_type": "code",
   "execution_count": 15,
   "id": "d8c1d62a-dcdc-4fb6-9800-b47075e6b97e",
   "metadata": {},
   "outputs": [
    {
     "data": {
      "text/plain": [
       "array([[ 1,  2,  3,  4],\n",
       "       [ 5,  6,  7,  8],\n",
       "       [ 3,  4,  5,  6],\n",
       "       [ 7,  8,  9, 10]])"
      ]
     },
     "execution_count": 15,
     "metadata": {},
     "output_type": "execute_result"
    }
   ],
   "source": [
    "## Add Verically\n",
    "np.vstack((arr1, arr2))\n",
    "# np.vstack((arr2, arr1))"
   ]
  },
  {
   "cell_type": "code",
   "execution_count": 18,
   "id": "ce084eee-d43d-4948-b2b4-2e8d0501730d",
   "metadata": {},
   "outputs": [
    {
     "data": {
      "text/plain": [
       "array([[ 1,  2,  3,  4,  3,  4,  5,  6],\n",
       "       [ 5,  6,  7,  8,  7,  8,  9, 10]])"
      ]
     },
     "execution_count": 18,
     "metadata": {},
     "output_type": "execute_result"
    }
   ],
   "source": [
    "## Add Horizontally\n",
    "np.hstack((arr1, arr2))\n",
    "# np.hstack((arr2, arr1))"
   ]
  },
  {
   "cell_type": "code",
   "execution_count": 21,
   "id": "43c3e776-e783-4d7f-b0e6-7c604f18bc8f",
   "metadata": {},
   "outputs": [],
   "source": [
    "## VErtically\n",
    "arr = np.concatenate((arr1, arr1), axis = 0)"
   ]
  },
  {
   "cell_type": "code",
   "execution_count": 20,
   "id": "82743b57-fc32-453e-a20d-66e6e66db5ec",
   "metadata": {},
   "outputs": [
    {
     "data": {
      "text/plain": [
       "array([[1, 2, 3, 4, 1, 2, 3, 4],\n",
       "       [5, 6, 7, 8, 5, 6, 7, 8]])"
      ]
     },
     "execution_count": 20,
     "metadata": {},
     "output_type": "execute_result"
    }
   ],
   "source": [
    "## Horizontally\n",
    "np.concatenate((arr1, arr1), axis = 1)"
   ]
  },
  {
   "cell_type": "code",
   "execution_count": 22,
   "id": "12b790af-243e-455a-b508-adc1782b14d6",
   "metadata": {},
   "outputs": [
    {
     "data": {
      "text/plain": [
       "array([[1, 2, 3, 4],\n",
       "       [5, 6, 7, 8],\n",
       "       [1, 2, 3, 4],\n",
       "       [5, 6, 7, 8]])"
      ]
     },
     "execution_count": 22,
     "metadata": {},
     "output_type": "execute_result"
    }
   ],
   "source": [
    "arr"
   ]
  },
  {
   "cell_type": "code",
   "execution_count": 23,
   "id": "4f385176-afdc-42e3-be64-9790f994a2b0",
   "metadata": {},
   "outputs": [
    {
     "data": {
      "text/plain": [
       "[array([[1, 2],\n",
       "        [5, 6],\n",
       "        [1, 2],\n",
       "        [5, 6]]),\n",
       " array([[3, 4],\n",
       "        [7, 8],\n",
       "        [3, 4],\n",
       "        [7, 8]])]"
      ]
     },
     "execution_count": 23,
     "metadata": {},
     "output_type": "execute_result"
    }
   ],
   "source": [
    "## Spliting of Array Horizontally\n",
    "\n",
    "np.hsplit(arr, 2)\n"
   ]
  },
  {
   "cell_type": "code",
   "execution_count": 24,
   "id": "f9c7d510-b3ac-4d11-83ad-945706ef3e02",
   "metadata": {},
   "outputs": [
    {
     "data": {
      "text/plain": [
       "[array([[1, 2, 3, 4],\n",
       "        [5, 6, 7, 8]]),\n",
       " array([[1, 2, 3, 4],\n",
       "        [5, 6, 7, 8]])]"
      ]
     },
     "execution_count": 24,
     "metadata": {},
     "output_type": "execute_result"
    }
   ],
   "source": [
    "## Spliting of Array Vertically\n",
    "\n",
    "np.vsplit(arr, 2)"
   ]
  },
  {
   "cell_type": "code",
   "execution_count": null,
   "id": "c444db23-51c9-422e-97bc-18e7abaeea5e",
   "metadata": {},
   "outputs": [],
   "source": []
  }
 ],
 "metadata": {
  "kernelspec": {
   "display_name": "Python 3 (ipykernel)",
   "language": "python",
   "name": "python3"
  },
  "language_info": {
   "codemirror_mode": {
    "name": "ipython",
    "version": 3
   },
   "file_extension": ".py",
   "mimetype": "text/x-python",
   "name": "python",
   "nbconvert_exporter": "python",
   "pygments_lexer": "ipython3",
   "version": "3.10.7"
  }
 },
 "nbformat": 4,
 "nbformat_minor": 5
}
