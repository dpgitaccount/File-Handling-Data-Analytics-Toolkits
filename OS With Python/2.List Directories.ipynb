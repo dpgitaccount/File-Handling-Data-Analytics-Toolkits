{
 "cells": [
  {
   "cell_type": "code",
   "execution_count": 1,
   "id": "a3592b25-87d6-43ef-ac95-516c12cdd91d",
   "metadata": {},
   "outputs": [],
   "source": [
    "import os"
   ]
  },
  {
   "cell_type": "code",
   "execution_count": 2,
   "id": "b2b40e46-0a69-4bb4-a664-6f5ea25dc422",
   "metadata": {},
   "outputs": [
    {
     "data": {
      "text/plain": [
       "'C:\\\\Users\\\\Zoom\\\\OneDrive\\\\Desktop\\\\jupyter work\\\\Data Tool kits\\\\OS With Python'"
      ]
     },
     "execution_count": 2,
     "metadata": {},
     "output_type": "execute_result"
    }
   ],
   "source": [
    "os.getcwd()"
   ]
  },
  {
   "cell_type": "code",
   "execution_count": 13,
   "id": "89af3fa6-362e-4636-a282-0f4922026df9",
   "metadata": {},
   "outputs": [
    {
     "name": "stdout",
     "output_type": "stream",
     "text": [
      ".ipynb_checkpoints\n",
      "1.OS Library-Directories.ipynb\n",
      "2.List Directories.ipynb\n",
      "OS Library-Directories.ipynb\n"
     ]
    }
   ],
   "source": [
    "for i in os.listdir():\n",
    "    if i != 'Data Tool Kits':\n",
    "        print(i)"
   ]
  },
  {
   "cell_type": "code",
   "execution_count": 21,
   "id": "a3b5e903-1ded-403c-a11c-30720e52738d",
   "metadata": {},
   "outputs": [],
   "source": [
    "if os.path.exists(\"DP\"):\n",
    "    print(\"Folder Exists!\")\n",
    "else:\n",
    "    os.mkdir('jupyter work/D')"
   ]
  },
  {
   "cell_type": "code",
   "execution_count": 25,
   "id": "832ece13-fa4d-4aba-924c-76c955e84f5f",
   "metadata": {},
   "outputs": [],
   "source": [
    "os.path.getsize(\"Desktops\")"
   ]
  },
  {
   "cell_type": "code",
   "execution_count": null,
   "id": "a95746d8-b16f-48dc-910d-abc377a4e652",
   "metadata": {},
   "outputs": [],
   "source": []
  }
 ],
 "metadata": {
  "kernelspec": {
   "display_name": "Python 3 (ipykernel)",
   "language": "python",
   "name": "python3"
  },
  "language_info": {
   "codemirror_mode": {
    "name": "ipython",
    "version": 3
   },
   "file_extension": ".py",
   "mimetype": "text/x-python",
   "name": "python",
   "nbconvert_exporter": "python",
   "pygments_lexer": "ipython3",
   "version": "3.10.7"
  }
 },
 "nbformat": 4,
 "nbformat_minor": 5
}
