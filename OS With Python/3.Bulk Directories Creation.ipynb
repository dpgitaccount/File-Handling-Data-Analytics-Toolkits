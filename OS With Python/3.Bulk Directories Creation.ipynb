{
 "cells": [
  {
   "cell_type": "code",
   "execution_count": 1,
   "id": "a2ed63ad-4c19-4294-96ee-a87cec29c1b6",
   "metadata": {},
   "outputs": [],
   "source": [
    "import os"
   ]
  },
  {
   "cell_type": "code",
   "execution_count": 3,
   "id": "a9417852-9382-4b8c-bda1-0919ba30a05b",
   "metadata": {},
   "outputs": [],
   "source": [
    "n = 'OSWITHDATA'\n"
   ]
  },
  {
   "cell_type": "code",
   "execution_count": 4,
   "id": "ba986f54-5cb2-4800-863a-30f9f45a9f42",
   "metadata": {},
   "outputs": [],
   "source": [
    "os.mkdir(n)\n"
   ]
  },
  {
   "cell_type": "code",
   "execution_count": 5,
   "id": "d3fbfd4a-d9d9-452b-adb0-3bd1b5fff541",
   "metadata": {},
   "outputs": [],
   "source": [
    "for i in range(1000):\n",
    "    \n",
    "    name = n +'/'+ n + \" \" + str(i+1)\n",
    "    os.mkdir(name)"
   ]
  },
  {
   "cell_type": "markdown",
   "id": "2eb31595-e1d9-499b-b169-f04713f0409a",
   "metadata": {},
   "source": [
    "# 4.Hierarchical Bulk Directories Creation"
   ]
  },
  {
   "cell_type": "code",
   "execution_count": 6,
   "id": "71ea46fc-564a-4faa-b0ae-386fa2195e15",
   "metadata": {},
   "outputs": [
    {
     "name": "stdout",
     "output_type": "stream",
     "text": [
      "31\n"
     ]
    }
   ],
   "source": [
    "master = 'OSWITHPYTHON'\n",
    "\n",
    "os.mkdir(master)\n",
    "\n",
    "n = 5\n",
    "m = 5\n",
    "\n",
    "for i in range(n):\n",
    "    \n",
    "    name = master +'/'+ master + \" \" + str(i+1)\n",
    "    os.mkdir(name)\n",
    "    \n",
    "    for j in range(m):\n",
    "        name = master +'/'+ master + \" \" + str(i+1) +\"/\"+ master + \" \" + str(j+1) \n",
    "        os.mkdir(name)\n",
    "        \n",
    "print(n*m + n + 1)"
   ]
  }
 ],
 "metadata": {
  "kernelspec": {
   "display_name": "Python 3 (ipykernel)",
   "language": "python",
   "name": "python3"
  },
  "language_info": {
   "codemirror_mode": {
    "name": "ipython",
    "version": 3
   },
   "file_extension": ".py",
   "mimetype": "text/x-python",
   "name": "python",
   "nbconvert_exporter": "python",
   "pygments_lexer": "ipython3",
   "version": "3.10.7"
  }
 },
 "nbformat": 4,
 "nbformat_minor": 5
}
