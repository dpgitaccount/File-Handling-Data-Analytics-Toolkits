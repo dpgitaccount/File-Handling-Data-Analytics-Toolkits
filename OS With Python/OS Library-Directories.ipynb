{
 "cells": [
  {
   "cell_type": "code",
   "execution_count": 1,
   "id": "1c1e288e-c2ac-4264-8c11-eb10ae35efde",
   "metadata": {},
   "outputs": [],
   "source": [
    "import os"
   ]
  },
  {
   "cell_type": "code",
   "execution_count": 2,
   "id": "d59af384-731e-4b38-b4d3-2e9f45a5d8e3",
   "metadata": {},
   "outputs": [
    {
     "data": {
      "text/plain": [
       "'C:\\\\Users\\\\Zoom\\\\OneDrive\\\\Desktop\\\\jupyter work\\\\Data Tool kits\\\\OS With Python'"
      ]
     },
     "execution_count": 2,
     "metadata": {},
     "output_type": "execute_result"
    }
   ],
   "source": [
    "os.getcwd()"
   ]
  },
  {
   "cell_type": "code",
   "execution_count": 13,
   "id": "183fd2c5-2ef4-4a9e-ac29-f34666d7bf45",
   "metadata": {},
   "outputs": [],
   "source": [
    "# ## Changing Current working Direcory\n",
    "os.chdir(r\"C:\\Users\\Zoom\\OneDrive\\Desktop\\imgs\")"
   ]
  },
  {
   "cell_type": "code",
   "execution_count": 16,
   "id": "3a0a0e15-bd99-498b-802b-8cbd45a9a193",
   "metadata": {},
   "outputs": [
    {
     "data": {
      "text/plain": [
       "'C:\\\\Users\\\\Zoom\\\\OneDrive\\\\Desktop\\\\imgs'"
      ]
     },
     "execution_count": 16,
     "metadata": {},
     "output_type": "execute_result"
    }
   ],
   "source": [
    "os.getcwd()"
   ]
  },
  {
   "cell_type": "code",
   "execution_count": 17,
   "id": "e6cb892d-641f-4762-ad8d-7c9d9aec4fad",
   "metadata": {},
   "outputs": [],
   "source": [
    "## Return Back to Main Directory\n",
    "os.chdir(\"../\")"
   ]
  },
  {
   "cell_type": "code",
   "execution_count": 18,
   "id": "c67dad6b-52e1-4c77-aca4-02f6f5b622e4",
   "metadata": {},
   "outputs": [
    {
     "data": {
      "text/plain": [
       "'C:\\\\Users\\\\Zoom\\\\OneDrive\\\\Desktop'"
      ]
     },
     "execution_count": 18,
     "metadata": {},
     "output_type": "execute_result"
    }
   ],
   "source": [
    "os.getcwd()"
   ]
  },
  {
   "cell_type": "code",
   "execution_count": 19,
   "id": "674345a6-f549-4be8-9380-49fdabeb9b99",
   "metadata": {},
   "outputs": [],
   "source": [
    "## Making of New Directory\n",
    "os.mkdir(\"DP\")"
   ]
  },
  {
   "cell_type": "code",
   "execution_count": 20,
   "id": "fa0aca9a-d46e-47af-9850-ee0036145f45",
   "metadata": {},
   "outputs": [],
   "source": [
    "## Making Multiple Directories\n",
    "os.makedirs(\"DP/DP1/DP2/Dp3\")"
   ]
  },
  {
   "cell_type": "code",
   "execution_count": 21,
   "id": "941364a6-5b5c-4c1c-b682-81b3b3c1fd4b",
   "metadata": {},
   "outputs": [
    {
     "data": {
      "text/plain": [
       "'DP\\\\Dp1'"
      ]
     },
     "execution_count": 21,
     "metadata": {},
     "output_type": "execute_result"
    }
   ],
   "source": [
    "## Add Path of one or more directory\n",
    "os.path.join(\"DP\",\"Dp1\")"
   ]
  },
  {
   "cell_type": "code",
   "execution_count": null,
   "id": "2854a1c0-9a52-4cfb-a2fa-ef046224e254",
   "metadata": {},
   "outputs": [],
   "source": []
  }
 ],
 "metadata": {
  "kernelspec": {
   "display_name": "Python 3 (ipykernel)",
   "language": "python",
   "name": "python3"
  },
  "language_info": {
   "codemirror_mode": {
    "name": "ipython",
    "version": 3
   },
   "file_extension": ".py",
   "mimetype": "text/x-python",
   "name": "python",
   "nbconvert_exporter": "python",
   "pygments_lexer": "ipython3",
   "version": "3.10.7"
  }
 },
 "nbformat": 4,
 "nbformat_minor": 5
}
