{
 "cells": [
  {
   "cell_type": "code",
   "execution_count": null,
   "id": "1c1e288e-c2ac-4264-8c11-eb10ae35efde",
   "metadata": {},
   "outputs": [],
   "source": []
  }
 ],
 "metadata": {
  "kernelspec": {
   "display_name": "",
   "name": ""
  },
  "language_info": {
   "name": ""
  }
 },
 "nbformat": 4,
 "nbformat_minor": 5
}
