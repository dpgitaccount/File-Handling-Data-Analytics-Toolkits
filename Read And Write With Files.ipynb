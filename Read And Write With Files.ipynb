{
 "cells": [
  {
   "cell_type": "markdown",
   "id": "cce75e6e-bb31-4c64-a134-6496246843d4",
   "metadata": {},
   "source": [
    "# 1.Reading & Writing Data From Text File\n"
   ]
  },
  {
   "cell_type": "code",
   "execution_count": 15,
   "id": "0ffc8100-a1a4-45ee-b13b-789060a11fc2",
   "metadata": {},
   "outputs": [
    {
     "name": "stdout",
     "output_type": "stream",
     "text": [
      "Hello Everyone I Am Divya Prakash. I'm Showing you some Wikipedia report about our Bharat Ratna Titan Of businesses sir Ratan tata.Ratan Naval Tata[a] (28 December 1937 â€“ 9 October 2024) was an Indian industrialist and philanthropist. He served as the chairman of Tata Group and Tata Sons from 1991 to 2012, and he held the position of interim chairman from October 2016 to February 2017.[2][3] In 2008, he received the Padma Vibhushan, the second highest civilian honour in India. Ratan had previously received the Padma Bhushan, the third highest civilian honour, in 2000.[4]\n",
      "\n",
      "Ratan Tata was the son of Naval Tata, who was adopted by Ratanji Tata, son of Jamshedji Tata, the founder of the Tata Group. He graduated from Cornell University College of Architecture with a bachelor's degree in architecture.[5] He joined the Tata Group in 1962[6] starting on the shop floor of Tata Steel. He later succeeded J. R. D. Tata as chairman of Tata Sons upon the latter's retirement in 1991. During his tenure, the Tata Group acquired Tetley, Jaguar Land Rover, and Corus, in an attempt to turn Tata from a largely India-centric group into a global business.\n",
      "\n",
      "During his life, Tata invested in over 30 start-ups, primarily in a personal capacity, with some through his investment company.[7][8]\n"
     ]
    }
   ],
   "source": [
    "fd = open('Data.txt', 'r')\n",
    "fd.read()\n",
    "print(txt)\n",
    "fd.close()"
   ]
  },
  {
   "cell_type": "code",
   "execution_count": null,
   "id": "dd61d707-9317-4f1d-9d68-373488e23e30",
   "metadata": {},
   "outputs": [],
   "source": []
  },
  {
   "cell_type": "markdown",
   "id": "552188a8-d1eb-4be1-81ae-8f356c609ea6",
   "metadata": {},
   "source": [
    "# 2.Reading Data From Text-File Corpus"
   ]
  },
  {
   "cell_type": "code",
   "execution_count": 8,
   "id": "d42b7416-f96c-42e4-ac13-a54e5d0b4fdb",
   "metadata": {},
   "outputs": [],
   "source": [
    "fd = open('Data.txt', 'r')\n",
    "fd.read()\n",
    "fd.close()"
   ]
  },
  {
   "cell_type": "code",
   "execution_count": 16,
   "id": "bff1ac95-aa76-43ee-9e7e-a3fed668490b",
   "metadata": {},
   "outputs": [
    {
     "data": {
      "text/plain": [
       "\"Hello Everyone I Am Divya Prakash. I'm Showing you some Wikipedia report about our Bharat Ratna Titan Of businesses sir Ratan tata.Ratan Naval Tata[a] (28 December 1937 â€“ 9 October 2024) was an Indian industrialist and philanthropist. He served as the chairman of Tata Group and Tata Sons from 1991 to 2012, and he held the position of interim chairman from October 2016 to February 2017.[2][3] In 2008, he received the Padma Vibhushan, the second highest civilian honour in India. Ratan had previously received the Padma Bhushan, the third highest civilian honour, in 2000.[4]\\n\\nRatan Tata was the son of Naval Tata, who was adopted by Ratanji Tata, son of Jamshedji Tata, the founder of the Tata Group. He graduated from Cornell University College of Architecture with a bachelor's degree in architecture.[5] He joined the Tata Group in 1962[6] starting on the shop floor of Tata Steel. He later succeeded J. R. D. Tata as chairman of Tata Sons upon the latter's retirement in 1991. During his tenure, the Tata Group acquired Tetley, Jaguar Land Rover, and Corus, in an attempt to turn Tata from a largely India-centric group into a global business.\\n\\nDuring his life, Tata invested in over 30 start-ups, primarily in a personal capacity, with some through his investment company.[7][8]\""
      ]
     },
     "execution_count": 16,
     "metadata": {},
     "output_type": "execute_result"
    }
   ],
   "source": [
    "## with Row File without slac of lines\n",
    "txt"
   ]
  },
  {
   "cell_type": "code",
   "execution_count": 21,
   "id": "442d427a-99e3-4a07-bedd-f9ecb0e591bf",
   "metadata": {},
   "outputs": [
    {
     "name": "stdout",
     "output_type": "stream",
     "text": [
      "Hello Everyone I Am Divya Prakash. I'm Showing you some Wikipedia report about our Bharat Ratna Titan Of businesses sir Ratan tata.Ratan Naval Tata[a] (28 December 1937 â€“ 9 October 2024) was an Indian industrialist and philanthropist. He served as the chairman of Tata Group and Tata Sons from 1991 to 2012, and he held the position of interim chairman from October 2016 to February 2017.[2][3] In 2008, he received the Padma Vibhushan, the second highest civilian honour in India. Ratan had previously received the Padma Bhushan, the third highest civilian honour, in 2000.[4]\n",
      "\n",
      "Ratan Tata was the son of Naval Tata, who was adopted by Ratanji Tata, son of Jamshedji Tata, the founder of the Tata Group. He graduated from Cornell University College of Architecture with a bachelor's degree in architecture.[5] He joined the Tata Group in 1962[6] starting on the shop floor of Tata Steel. He later succeeded J. R. D. Tata as chairman of Tata Sons upon the latter's retirement in 1991. During his tenure, the Tata Group acquired Tetley, Jaguar Land Rover, and Corus, in an attempt to turn Tata from a largely India-centric group into a global business.\n",
      "\n",
      "During his life, Tata invested in over 30 start-ups, primarily in a personal capacity, with some through his investment company.[7][8]\n"
     ]
    }
   ],
   "source": [
    "## with Row File with slace of lines\n",
    "txt.replace(\"\\n\\n\", ' ')\n",
    "print(txt)"
   ]
  },
  {
   "cell_type": "markdown",
   "id": "9bf4e9e8-37fc-4826-bc84-519632be4f09",
   "metadata": {},
   "source": [
    "# 3.Text Processing"
   ]
  },
  {
   "cell_type": "code",
   "execution_count": 31,
   "id": "a68ebe75-ad8e-44e9-9292-795504f9e0f2",
   "metadata": {},
   "outputs": [
    {
     "data": {
      "text/plain": [
       "str"
      ]
     },
     "execution_count": 31,
     "metadata": {},
     "output_type": "execute_result"
    }
   ],
   "source": [
    "type(txt)"
   ]
  },
  {
   "cell_type": "markdown",
   "id": "6b536aac-7c61-4aff-9452-c6114b699da0",
   "metadata": {},
   "source": [
    "# PARAGRAPH\n"
   ]
  },
  {
   "cell_type": "code",
   "execution_count": 39,
   "id": "d3dcfaa7-9211-4dcd-967d-6281ad8fbfa9",
   "metadata": {},
   "outputs": [
    {
     "data": {
      "text/plain": [
       "3"
      ]
     },
     "execution_count": 39,
     "metadata": {},
     "output_type": "execute_result"
    }
   ],
   "source": [
    "per = txt.split(\"\\n\\n\")\n",
    "len(per)"
   ]
  },
  {
   "cell_type": "code",
   "execution_count": 40,
   "id": "47b1a822-6462-4ece-bf7a-ad0957b66c1c",
   "metadata": {},
   "outputs": [
    {
     "data": {
      "text/plain": [
       "list"
      ]
     },
     "execution_count": 40,
     "metadata": {},
     "output_type": "execute_result"
    }
   ],
   "source": [
    "type(per)"
   ]
  },
  {
   "cell_type": "markdown",
   "id": "47eb8bea-384b-48b3-924f-5d497e36b187",
   "metadata": {},
   "source": [
    "# LINES\n"
   ]
  },
  {
   "cell_type": "code",
   "execution_count": 44,
   "id": "0845a548-968c-467c-8246-aab85f1369eb",
   "metadata": {},
   "outputs": [],
   "source": [
    "lines = txt.split(\".\")"
   ]
  },
  {
   "cell_type": "code",
   "execution_count": 45,
   "id": "7cbb3bab-c0f1-4dd2-aec4-6b6affbe0568",
   "metadata": {},
   "outputs": [
    {
     "data": {
      "text/plain": [
       "['Hello Everyone I Am Divya Prakash',\n",
       " \" I'm Showing you some Wikipedia report about our Bharat Ratna Titan Of businesses sir Ratan tata\",\n",
       " 'Ratan Naval Tata[a] (28 December 1937 â€“ 9 October 2024) was an Indian industrialist and philanthropist',\n",
       " ' He served as the chairman of Tata Group and Tata Sons from 1991 to 2012, and he held the position of interim chairman from October 2016 to February 2017',\n",
       " '[2][3] In 2008, he received the Padma Vibhushan, the second highest civilian honour in India',\n",
       " ' Ratan had previously received the Padma Bhushan, the third highest civilian honour, in 2000',\n",
       " '[4]\\n\\nRatan Tata was the son of Naval Tata, who was adopted by Ratanji Tata, son of Jamshedji Tata, the founder of the Tata Group',\n",
       " \" He graduated from Cornell University College of Architecture with a bachelor's degree in architecture\",\n",
       " '[5] He joined the Tata Group in 1962[6] starting on the shop floor of Tata Steel',\n",
       " ' He later succeeded J',\n",
       " ' R',\n",
       " ' D',\n",
       " \" Tata as chairman of Tata Sons upon the latter's retirement in 1991\",\n",
       " ' During his tenure, the Tata Group acquired Tetley, Jaguar Land Rover, and Corus, in an attempt to turn Tata from a largely India-centric group into a global business',\n",
       " '\\n\\nDuring his life, Tata invested in over 30 start-ups, primarily in a personal capacity, with some through his investment company',\n",
       " '[7][8]']"
      ]
     },
     "execution_count": 45,
     "metadata": {},
     "output_type": "execute_result"
    }
   ],
   "source": [
    "lines"
   ]
  },
  {
   "cell_type": "code",
   "execution_count": 46,
   "id": "c2545254-3497-475a-8cff-199983c8c22a",
   "metadata": {},
   "outputs": [
    {
     "data": {
      "text/plain": [
       "'Hello Everyone I Am Divya Prakash'"
      ]
     },
     "execution_count": 46,
     "metadata": {},
     "output_type": "execute_result"
    }
   ],
   "source": [
    "lines[0]"
   ]
  },
  {
   "cell_type": "code",
   "execution_count": 48,
   "id": "b56d338c-155f-4b59-9dee-ef0082a6daac",
   "metadata": {},
   "outputs": [
    {
     "data": {
      "text/plain": [
       "['Hello Everyone I Am Divya Prakash',\n",
       " \" I'm Showing you some Wikipedia report about our Bharat Ratna Titan Of businesses sir Ratan tata\",\n",
       " 'Ratan Naval Tata[a] (28 December 1937 â€“ 9 October 2024) was an Indian industrialist and philanthropist',\n",
       " ' He served as the chairman of Tata Group and Tata Sons from 1991 to 2012, and he held the position of interim chairman from October 2016 to February 2017',\n",
       " '[2][3] In 2008, he received the Padma Vibhushan, the second highest civilian honour in India',\n",
       " ' Ratan had previously received the Padma Bhushan, the third highest civilian honour, in 2000',\n",
       " '[4]\\n\\nRatan Tata was the son of Naval Tata, who was adopted by Ratanji Tata, son of Jamshedji Tata, the founder of the Tata Group',\n",
       " \" He graduated from Cornell University College of Architecture with a bachelor's degree in architecture\",\n",
       " '[5] He joined the Tata Group in 1962[6] starting on the shop floor of Tata Steel',\n",
       " ' He later succeeded J',\n",
       " ' R',\n",
       " ' D',\n",
       " \" Tata as chairman of Tata Sons upon the latter's retirement in 1991\",\n",
       " ' During his tenure, the Tata Group acquired Tetley, Jaguar Land Rover, and Corus, in an attempt to turn Tata from a largely India-centric group into a global business',\n",
       " '\\n\\nDuring his life, Tata invested in over 30 start-ups, primarily in a personal capacity, with some through his investment company']"
      ]
     },
     "execution_count": 48,
     "metadata": {},
     "output_type": "execute_result"
    }
   ],
   "source": [
    "lines[:-1]"
   ]
  },
  {
   "cell_type": "code",
   "execution_count": 49,
   "id": "07280d99-3eea-41a2-bf3e-5f028357ec88",
   "metadata": {},
   "outputs": [
    {
     "data": {
      "text/plain": [
       "15"
      ]
     },
     "execution_count": 49,
     "metadata": {},
     "output_type": "execute_result"
    }
   ],
   "source": [
    "## Total lines -\n",
    "len(lines[:-1])"
   ]
  },
  {
   "cell_type": "markdown",
   "id": "e0e12285-6fcf-4954-b6d3-99474872223a",
   "metadata": {},
   "source": [
    "# WORDS\n"
   ]
  },
  {
   "cell_type": "code",
   "execution_count": 50,
   "id": "7fa9d7ca-75af-4d3b-be85-422efcdc9b53",
   "metadata": {},
   "outputs": [],
   "source": [
    "words = txt.split(\" \")"
   ]
  },
  {
   "cell_type": "code",
   "execution_count": 51,
   "id": "652b0361-3c66-4eb1-ad53-fba17701708e",
   "metadata": {},
   "outputs": [
    {
     "data": {
      "text/plain": [
       "['Hello',\n",
       " 'Everyone',\n",
       " 'I',\n",
       " 'Am',\n",
       " 'Divya',\n",
       " 'Prakash.',\n",
       " \"I'm\",\n",
       " 'Showing',\n",
       " 'you',\n",
       " 'some',\n",
       " 'Wikipedia',\n",
       " 'report',\n",
       " 'about',\n",
       " 'our',\n",
       " 'Bharat',\n",
       " 'Ratna',\n",
       " 'Titan',\n",
       " 'Of',\n",
       " 'businesses',\n",
       " 'sir',\n",
       " 'Ratan',\n",
       " 'tata.Ratan',\n",
       " 'Naval',\n",
       " 'Tata[a]',\n",
       " '(28',\n",
       " 'December',\n",
       " '1937',\n",
       " 'â€“',\n",
       " '9',\n",
       " 'October',\n",
       " '2024)',\n",
       " 'was',\n",
       " 'an',\n",
       " 'Indian',\n",
       " 'industrialist',\n",
       " 'and',\n",
       " 'philanthropist.',\n",
       " 'He',\n",
       " 'served',\n",
       " 'as',\n",
       " 'the',\n",
       " 'chairman',\n",
       " 'of',\n",
       " 'Tata',\n",
       " 'Group',\n",
       " 'and',\n",
       " 'Tata',\n",
       " 'Sons',\n",
       " 'from',\n",
       " '1991',\n",
       " 'to',\n",
       " '2012,',\n",
       " 'and',\n",
       " 'he',\n",
       " 'held',\n",
       " 'the',\n",
       " 'position',\n",
       " 'of',\n",
       " 'interim',\n",
       " 'chairman',\n",
       " 'from',\n",
       " 'October',\n",
       " '2016',\n",
       " 'to',\n",
       " 'February',\n",
       " '2017.[2][3]',\n",
       " 'In',\n",
       " '2008,',\n",
       " 'he',\n",
       " 'received',\n",
       " 'the',\n",
       " 'Padma',\n",
       " 'Vibhushan,',\n",
       " 'the',\n",
       " 'second',\n",
       " 'highest',\n",
       " 'civilian',\n",
       " 'honour',\n",
       " 'in',\n",
       " 'India.',\n",
       " 'Ratan',\n",
       " 'had',\n",
       " 'previously',\n",
       " 'received',\n",
       " 'the',\n",
       " 'Padma',\n",
       " 'Bhushan,',\n",
       " 'the',\n",
       " 'third',\n",
       " 'highest',\n",
       " 'civilian',\n",
       " 'honour,',\n",
       " 'in',\n",
       " '2000.[4]\\n\\nRatan',\n",
       " 'Tata',\n",
       " 'was',\n",
       " 'the',\n",
       " 'son',\n",
       " 'of',\n",
       " 'Naval',\n",
       " 'Tata,',\n",
       " 'who',\n",
       " 'was',\n",
       " 'adopted',\n",
       " 'by',\n",
       " 'Ratanji',\n",
       " 'Tata,',\n",
       " 'son',\n",
       " 'of',\n",
       " 'Jamshedji',\n",
       " 'Tata,',\n",
       " 'the',\n",
       " 'founder',\n",
       " 'of',\n",
       " 'the',\n",
       " 'Tata',\n",
       " 'Group.',\n",
       " 'He',\n",
       " 'graduated',\n",
       " 'from',\n",
       " 'Cornell',\n",
       " 'University',\n",
       " 'College',\n",
       " 'of',\n",
       " 'Architecture',\n",
       " 'with',\n",
       " 'a',\n",
       " \"bachelor's\",\n",
       " 'degree',\n",
       " 'in',\n",
       " 'architecture.[5]',\n",
       " 'He',\n",
       " 'joined',\n",
       " 'the',\n",
       " 'Tata',\n",
       " 'Group',\n",
       " 'in',\n",
       " '1962[6]',\n",
       " 'starting',\n",
       " 'on',\n",
       " 'the',\n",
       " 'shop',\n",
       " 'floor',\n",
       " 'of',\n",
       " 'Tata',\n",
       " 'Steel.',\n",
       " 'He',\n",
       " 'later',\n",
       " 'succeeded',\n",
       " 'J.',\n",
       " 'R.',\n",
       " 'D.',\n",
       " 'Tata',\n",
       " 'as',\n",
       " 'chairman',\n",
       " 'of',\n",
       " 'Tata',\n",
       " 'Sons',\n",
       " 'upon',\n",
       " 'the',\n",
       " \"latter's\",\n",
       " 'retirement',\n",
       " 'in',\n",
       " '1991.',\n",
       " 'During',\n",
       " 'his',\n",
       " 'tenure,',\n",
       " 'the',\n",
       " 'Tata',\n",
       " 'Group',\n",
       " 'acquired',\n",
       " 'Tetley,',\n",
       " 'Jaguar',\n",
       " 'Land',\n",
       " 'Rover,',\n",
       " 'and',\n",
       " 'Corus,',\n",
       " 'in',\n",
       " 'an',\n",
       " 'attempt',\n",
       " 'to',\n",
       " 'turn',\n",
       " 'Tata',\n",
       " 'from',\n",
       " 'a',\n",
       " 'largely',\n",
       " 'India-centric',\n",
       " 'group',\n",
       " 'into',\n",
       " 'a',\n",
       " 'global',\n",
       " 'business.\\n\\nDuring',\n",
       " 'his',\n",
       " 'life,',\n",
       " 'Tata',\n",
       " 'invested',\n",
       " 'in',\n",
       " 'over',\n",
       " '30',\n",
       " 'start-ups,',\n",
       " 'primarily',\n",
       " 'in',\n",
       " 'a',\n",
       " 'personal',\n",
       " 'capacity,',\n",
       " 'with',\n",
       " 'some',\n",
       " 'through',\n",
       " 'his',\n",
       " 'investment',\n",
       " 'company.[7][8]']"
      ]
     },
     "execution_count": 51,
     "metadata": {},
     "output_type": "execute_result"
    }
   ],
   "source": [
    "words"
   ]
  },
  {
   "cell_type": "code",
   "execution_count": 52,
   "id": "b9c83497-36df-44c9-84f5-81484e9222a2",
   "metadata": {},
   "outputs": [
    {
     "data": {
      "text/plain": [
       "211"
      ]
     },
     "execution_count": 52,
     "metadata": {},
     "output_type": "execute_result"
    }
   ],
   "source": [
    "## Total Words\n",
    "len(words)"
   ]
  },
  {
   "cell_type": "markdown",
   "id": "2b820ac6-06cd-44e8-beae-b5e8f73a0328",
   "metadata": {},
   "source": [
    "# 4.Advance Text Processing"
   ]
  },
  {
   "cell_type": "code",
   "execution_count": 59,
   "id": "57f71093-c02e-4a7b-836d-4745ab22efb9",
   "metadata": {},
   "outputs": [
    {
     "name": "stdout",
     "output_type": "stream",
     "text": [
      "Hello Everyone I Am Divya Prakash. I'm Showing you some Wikipedia report about our Bharat Ratna Titan Of businesses sir Ratan tata.Ratan Naval Tata[a] (28 December 1937 â€“ 9 October 2024) was an Indian industrialist and philanthropist. He served as the chairman of Tata Group and Tata Sons from 1991 to 2012, and he held the position of interim chairman from October 2016 to February 2017.[2][3] In 2008, he received the Padma Vibhushan, the second highest civilian honour in India. Ratan had previously received the Padma Bhushan, the third highest civilian honour, in 2000.[4]\n",
      "\n",
      "Ratan Tata was the son of Naval Tata, who was adopted by Ratanji Tata, son of Jamshedji Tata, the founder of the Tata Group. He graduated from Cornell University College of Architecture with a bachelor's degree in architecture.[5] He joined the Tata Group in 1962[6] starting on the shop floor of Tata Steel. He later succeeded J. R. D. Tata as chairman of Tata Sons upon the latter's retirement in 1991. During his tenure, the Tata Group acquired Tetley, Jaguar Land Rover, and Corus, in an attempt to turn Tata from a largely India-centric group into a global business.\n",
      "\n",
      "During his life, Tata invested in over 30 start-ups, primarily in a personal capacity, with some through his investment company.[7][8]\n"
     ]
    }
   ],
   "source": [
    "fd = open('Data.txt', 'r')\n",
    "fd.read()\n",
    "print(txt)\n",
    "fd.close()"
   ]
  },
  {
   "cell_type": "code",
   "execution_count": 67,
   "id": "351df548-24b8-45ec-8a04-3fd48701fb96",
   "metadata": {},
   "outputs": [
    {
     "name": "stdout",
     "output_type": "stream",
     "text": [
      "Hello Everyone I Am Divya Prakash. I'm Showing you some Wikipedia report about our Bharat Ratna Titan Of businesses sir Ratan tata.Ratan Naval Tata[a] (28 December 1937 â€“ 9 October 2024) was an Indian industrialist and philanthropist. He served as the chairman of Tata Group and Tata Sons from 1991 to 2012, and he held the position of interim chairman from October 2016 to February 2017. In 2008, he received the Padma Vibhushan, the second highest civilian honour in India. Ratan had previously received the Padma Bhushan, the third highest civilian honour, in 2000.\n",
      "\n",
      "Ratan Tata was the son of Naval Tata, who was adopted by Ratanji Tata, son of Jamshedji Tata, the founder of the Tata Group. He graduated from Cornell University College of Architecture with a bachelor's degree in architecture. He joined the Tata Group in 1962 starting on the shop floor of Tata Steel. He later succeeded J. R. D. Tata as chairman of Tata Sons upon the latter's retirement in 1991. During his tenure, the Tata Group acquired Tetley, Jaguar Land Rover, and Corus, in an attempt to turn Tata from a largely India-centric group into a global business.\n",
      "\n",
      "During his life, Tata invested in over 30 start-ups, primarily in a personal capacity, with some through his investment company.\n"
     ]
    }
   ],
   "source": [
    "## Replace the special numerical values\n",
    "for i in range(2,9):\n",
    "    pattern = '[' + str(i) +']'\n",
    "    txt = txt.replace(pattern, '')\n",
    "print(txt)"
   ]
  },
  {
   "cell_type": "code",
   "execution_count": 68,
   "id": "a71b49d8-d99f-468d-9cc2-20a9863c70ee",
   "metadata": {},
   "outputs": [
    {
     "name": "stdout",
     "output_type": "stream",
     "text": [
      "Hello Everyone I Am Divya Prakash. I'm Showing you some Wikipedia report about our Bharat Ratna Titan Of businesses sir Ratan tata.Ratan Naval Tata[a] (28 December 1937 â€“ 9 October 2024) was an Indian industrialist and philanthropist. He served as the chairman of Tata Group and Tata Sons from 1991 to 2012, and he held the position of interim chairman from October 2016 to February 2017. In 2008, he received the Padma Vibhushan, the second highest civilian honour in India. Ratan had previously received the Padma Bhushan, the third highest civilian honour, in 2000.\n",
      "\n",
      "Ratan Tata was the son of Naval Tata, who was adopted by Ratanji Tata, son of Jamshedji Tata, the founder of the Tata Group. He graduated from Cornell University College of Architecture with a bachelor's degree in architecture. He joined the Tata Group in 1962 starting on the shop floor of Tata Steel. He later succeeded J. R. D. Tata as chairman of Tata Sons upon the latter's retirement in 1991. During his tenure, the Tata Group acquired Tetley, Jaguar Land Rover, and Corus, in an attempt to turn Tata from a largely India-centric group into a global business.\n",
      "\n",
      "During his life, Tata invested in over 30 start-ups, primarily in a personal capacity, with some through his investment company.\n"
     ]
    }
   ],
   "source": [
    "for i in '!@#$^\"':\n",
    "    txt = txt.replace(i, '')\n",
    "print(txt)"
   ]
  },
  {
   "cell_type": "markdown",
   "id": "0e0d44db-00fc-4aa2-84c5-36475b40712e",
   "metadata": {},
   "source": [
    "# 5. Writing Data on Text File"
   ]
  },
  {
   "cell_type": "code",
   "execution_count": 79,
   "id": "bf9d0fb6-04cc-4c2c-b032-b82ed9bed836",
   "metadata": {},
   "outputs": [],
   "source": [
    "fd = open(\"Data1.txt\", 'w')\n",
    "\n",
    "fd.write(\"Hello all welcome to my class Prakash this side,How are you? i am a data analytics trainee and intern at GFG\")\n",
    "fd.close()"
   ]
  },
  {
   "cell_type": "markdown",
   "id": "90834475-121c-4474-b742-785fce917df4",
   "metadata": {},
   "source": [
    "# 6. Writing Data on a Text File with New Line"
   ]
  },
  {
   "cell_type": "code",
   "execution_count": 93,
   "id": "e89d4155-c4ae-492c-94c1-c873f0257d40",
   "metadata": {},
   "outputs": [
    {
     "name": "stdin",
     "output_type": "stream",
     "text": [
      "Enter the text: It's very useful topic coz store data permanently \n"
     ]
    }
   ],
   "source": [
    "# With New Line\n",
    "fd = open(\"Data3.txt\", 'a')\n",
    "\n",
    "txt = input(\"Enter the text:\")\n",
    "txt = txt + '.\\n'\n",
    "fd.write(txt)\n",
    "fd.close()"
   ]
  },
  {
   "cell_type": "code",
   "execution_count": null,
   "id": "04b04df9-941e-433b-a80c-41e0c1312edb",
   "metadata": {},
   "outputs": [],
   "source": []
  },
  {
   "cell_type": "code",
   "execution_count": null,
   "id": "98ed9ba6-fba9-49c8-bb11-815f72b7929b",
   "metadata": {},
   "outputs": [],
   "source": []
  }
 ],
 "metadata": {
  "kernelspec": {
   "display_name": "Python 3 (ipykernel)",
   "language": "python",
   "name": "python3"
  },
  "language_info": {
   "codemirror_mode": {
    "name": "ipython",
    "version": 3
   },
   "file_extension": ".py",
   "mimetype": "text/x-python",
   "name": "python",
   "nbconvert_exporter": "python",
   "pygments_lexer": "ipython3",
   "version": "3.10.7"
  }
 },
 "nbformat": 4,
 "nbformat_minor": 5
}
